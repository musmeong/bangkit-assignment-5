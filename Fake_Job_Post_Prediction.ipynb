{
  "nbformat": 4,
  "nbformat_minor": 0,
  "metadata": {
    "colab": {
      "name": "Fake Job Post Prediction.ipynb",
      "provenance": [],
      "collapsed_sections": [],
      "include_colab_link": true
    },
    "kernelspec": {
      "name": "python3",
      "display_name": "Python 3"
    }
  },
  "cells": [
    {
      "cell_type": "markdown",
      "metadata": {
        "id": "view-in-github",
        "colab_type": "text"
      },
      "source": [
        "<a href=\"https://colab.research.google.com/github/musmeong/bangkit-assignment-5/blob/master/Fake_Job_Post_Prediction.ipynb\" target=\"_parent\"><img src=\"https://colab.research.google.com/assets/colab-badge.svg\" alt=\"Open In Colab\"/></a>"
      ]
    },
    {
      "cell_type": "code",
      "metadata": {
        "id": "tKl8Wxg2nv5J",
        "colab_type": "code",
        "outputId": "8a7fa55a-1ef1-4175-a42e-8be0ad4af10f",
        "colab": {
          "base_uri": "https://localhost:8080/",
          "height": 34
        }
      },
      "source": [
        "#@title Run on TensorFlow 2.0\n",
        "%tensorflow_version 1.x"
      ],
      "execution_count": 1,
      "outputs": [
        {
          "output_type": "stream",
          "text": [
            "TensorFlow 1.x selected.\n"
          ],
          "name": "stdout"
        }
      ]
    },
    {
      "cell_type": "code",
      "metadata": {
        "id": "Ztt5XlT9mmH5",
        "colab_type": "code",
        "colab": {}
      },
      "source": [
        "import numpy as np\n",
        "import pandas as pd\n",
        "import tensorflow as tf\n",
        "from matplotlib import pyplot as plt\n",
        "from sklearn.linear_model import LogisticRegression\n",
        "from sklearn.feature_extraction.text import TfidfVectorizer\n",
        "from sklearn.metrics import roc_auc_score\n",
        "from sklearn.model_selection import RepeatedKFold"
      ],
      "execution_count": 0,
      "outputs": []
    },
    {
      "cell_type": "code",
      "metadata": {
        "id": "PxIFicDOG5WE",
        "colab_type": "code",
        "colab": {
          "base_uri": "https://localhost:8080/",
          "height": 34
        },
        "outputId": "66db1288-1ad3-423b-dd6e-41a5943d6cc5"
      },
      "source": [
        "print(tf.__version__)"
      ],
      "execution_count": 3,
      "outputs": [
        {
          "output_type": "stream",
          "text": [
            "1.15.2\n"
          ],
          "name": "stdout"
        }
      ]
    },
    {
      "cell_type": "markdown",
      "metadata": {
        "id": "SWc7DXPUqSrg",
        "colab_type": "text"
      },
      "source": [
        "Installing PyDrive to Access the Data from Google Drive. We can't use Github in this case because the filesize is more than 25 MB."
      ]
    },
    {
      "cell_type": "code",
      "metadata": {
        "id": "97SHSxMup87c",
        "colab_type": "code",
        "colab": {}
      },
      "source": [
        "!pip install -U -q PyDrive\n",
        "from pydrive.auth import GoogleAuth\n",
        "from pydrive.drive import GoogleDrive\n",
        "from google.colab import auth\n",
        "from oauth2client.client import GoogleCredentials"
      ],
      "execution_count": 0,
      "outputs": []
    },
    {
      "cell_type": "code",
      "metadata": {
        "id": "BeZcAAiBqEFR",
        "colab_type": "code",
        "colab": {}
      },
      "source": [
        "# Authenticate and create the PyDrive client.\n",
        "auth.authenticate_user()\n",
        "gauth = GoogleAuth()\n",
        "gauth.credentials = GoogleCredentials.get_application_default()\n",
        "drive = GoogleDrive(gauth)"
      ],
      "execution_count": 0,
      "outputs": []
    },
    {
      "cell_type": "code",
      "metadata": {
        "id": "fDr_USReqgei",
        "colab_type": "code",
        "colab": {}
      },
      "source": [
        "downloaded = drive.CreateFile({'id':'1ZVE012JJ2nusDk706Ry7-EWHn9gi53Ui'}) \n",
        "downloaded.GetContentFile('fake_job_postings.csv') \n",
        "df = pd.read_csv('fake_job_postings.csv')"
      ],
      "execution_count": 0,
      "outputs": []
    },
    {
      "cell_type": "code",
      "metadata": {
        "id": "oZ0pekktnh9B",
        "colab_type": "code",
        "outputId": "c7f10980-e146-4ead-9ac3-3608c593ee11",
        "colab": {
          "base_uri": "https://localhost:8080/",
          "height": 534
        }
      },
      "source": [
        "df.head()"
      ],
      "execution_count": 242,
      "outputs": [
        {
          "output_type": "execute_result",
          "data": {
            "text/html": [
              "<div>\n",
              "<style scoped>\n",
              "    .dataframe tbody tr th:only-of-type {\n",
              "        vertical-align: middle;\n",
              "    }\n",
              "\n",
              "    .dataframe tbody tr th {\n",
              "        vertical-align: top;\n",
              "    }\n",
              "\n",
              "    .dataframe thead th {\n",
              "        text-align: right;\n",
              "    }\n",
              "</style>\n",
              "<table border=\"1\" class=\"dataframe\">\n",
              "  <thead>\n",
              "    <tr style=\"text-align: right;\">\n",
              "      <th></th>\n",
              "      <th>job_id</th>\n",
              "      <th>title</th>\n",
              "      <th>location</th>\n",
              "      <th>department</th>\n",
              "      <th>salary_range</th>\n",
              "      <th>company_profile</th>\n",
              "      <th>description</th>\n",
              "      <th>requirements</th>\n",
              "      <th>benefits</th>\n",
              "      <th>telecommuting</th>\n",
              "      <th>has_company_logo</th>\n",
              "      <th>has_questions</th>\n",
              "      <th>employment_type</th>\n",
              "      <th>required_experience</th>\n",
              "      <th>required_education</th>\n",
              "      <th>industry</th>\n",
              "      <th>function</th>\n",
              "      <th>fraudulent</th>\n",
              "    </tr>\n",
              "  </thead>\n",
              "  <tbody>\n",
              "    <tr>\n",
              "      <th>0</th>\n",
              "      <td>1</td>\n",
              "      <td>Marketing Intern</td>\n",
              "      <td>US, NY, New York</td>\n",
              "      <td>Marketing</td>\n",
              "      <td>NaN</td>\n",
              "      <td>We're Food52, and we've created a groundbreaki...</td>\n",
              "      <td>Food52, a fast-growing, James Beard Award-winn...</td>\n",
              "      <td>Experience with content management systems a m...</td>\n",
              "      <td>NaN</td>\n",
              "      <td>0</td>\n",
              "      <td>1</td>\n",
              "      <td>0</td>\n",
              "      <td>Other</td>\n",
              "      <td>Internship</td>\n",
              "      <td>NaN</td>\n",
              "      <td>NaN</td>\n",
              "      <td>Marketing</td>\n",
              "      <td>0</td>\n",
              "    </tr>\n",
              "    <tr>\n",
              "      <th>1</th>\n",
              "      <td>2</td>\n",
              "      <td>Customer Service - Cloud Video Production</td>\n",
              "      <td>NZ, , Auckland</td>\n",
              "      <td>Success</td>\n",
              "      <td>NaN</td>\n",
              "      <td>90 Seconds, the worlds Cloud Video Production ...</td>\n",
              "      <td>Organised - Focused - Vibrant - Awesome!Do you...</td>\n",
              "      <td>What we expect from you:Your key responsibilit...</td>\n",
              "      <td>What you will get from usThrough being part of...</td>\n",
              "      <td>0</td>\n",
              "      <td>1</td>\n",
              "      <td>0</td>\n",
              "      <td>Full-time</td>\n",
              "      <td>Not Applicable</td>\n",
              "      <td>NaN</td>\n",
              "      <td>Marketing and Advertising</td>\n",
              "      <td>Customer Service</td>\n",
              "      <td>0</td>\n",
              "    </tr>\n",
              "    <tr>\n",
              "      <th>2</th>\n",
              "      <td>3</td>\n",
              "      <td>Commissioning Machinery Assistant (CMA)</td>\n",
              "      <td>US, IA, Wever</td>\n",
              "      <td>NaN</td>\n",
              "      <td>NaN</td>\n",
              "      <td>Valor Services provides Workforce Solutions th...</td>\n",
              "      <td>Our client, located in Houston, is actively se...</td>\n",
              "      <td>Implement pre-commissioning and commissioning ...</td>\n",
              "      <td>NaN</td>\n",
              "      <td>0</td>\n",
              "      <td>1</td>\n",
              "      <td>0</td>\n",
              "      <td>NaN</td>\n",
              "      <td>NaN</td>\n",
              "      <td>NaN</td>\n",
              "      <td>NaN</td>\n",
              "      <td>NaN</td>\n",
              "      <td>0</td>\n",
              "    </tr>\n",
              "    <tr>\n",
              "      <th>3</th>\n",
              "      <td>4</td>\n",
              "      <td>Account Executive - Washington DC</td>\n",
              "      <td>US, DC, Washington</td>\n",
              "      <td>Sales</td>\n",
              "      <td>NaN</td>\n",
              "      <td>Our passion for improving quality of life thro...</td>\n",
              "      <td>THE COMPANY: ESRI – Environmental Systems Rese...</td>\n",
              "      <td>EDUCATION: Bachelor’s or Master’s in GIS, busi...</td>\n",
              "      <td>Our culture is anything but corporate—we have ...</td>\n",
              "      <td>0</td>\n",
              "      <td>1</td>\n",
              "      <td>0</td>\n",
              "      <td>Full-time</td>\n",
              "      <td>Mid-Senior level</td>\n",
              "      <td>Bachelor's Degree</td>\n",
              "      <td>Computer Software</td>\n",
              "      <td>Sales</td>\n",
              "      <td>0</td>\n",
              "    </tr>\n",
              "    <tr>\n",
              "      <th>4</th>\n",
              "      <td>5</td>\n",
              "      <td>Bill Review Manager</td>\n",
              "      <td>US, FL, Fort Worth</td>\n",
              "      <td>NaN</td>\n",
              "      <td>NaN</td>\n",
              "      <td>SpotSource Solutions LLC is a Global Human Cap...</td>\n",
              "      <td>JOB TITLE: Itemization Review ManagerLOCATION:...</td>\n",
              "      <td>QUALIFICATIONS:RN license in the State of Texa...</td>\n",
              "      <td>Full Benefits Offered</td>\n",
              "      <td>0</td>\n",
              "      <td>1</td>\n",
              "      <td>1</td>\n",
              "      <td>Full-time</td>\n",
              "      <td>Mid-Senior level</td>\n",
              "      <td>Bachelor's Degree</td>\n",
              "      <td>Hospital &amp; Health Care</td>\n",
              "      <td>Health Care Provider</td>\n",
              "      <td>0</td>\n",
              "    </tr>\n",
              "  </tbody>\n",
              "</table>\n",
              "</div>"
            ],
            "text/plain": [
              "   job_id  ... fraudulent\n",
              "0       1  ...          0\n",
              "1       2  ...          0\n",
              "2       3  ...          0\n",
              "3       4  ...          0\n",
              "4       5  ...          0\n",
              "\n",
              "[5 rows x 18 columns]"
            ]
          },
          "metadata": {
            "tags": []
          },
          "execution_count": 242
        }
      ]
    },
    {
      "cell_type": "code",
      "metadata": {
        "id": "T-3_emB_8Cv1",
        "colab_type": "code",
        "outputId": "5c7968fd-19c8-4077-ca8b-bc80d2f554c2",
        "colab": {
          "base_uri": "https://localhost:8080/",
          "height": 50
        }
      },
      "source": [
        "# Get all true job post\n",
        "positive = df[df['fraudulent'] == 0]\n",
        "print('Positive Job Post：', len(positive))\n",
        "\n",
        "# Get all fake job post\n",
        "negative = df[df['fraudulent'] == 1]\n",
        "print('Negative Job Post：', len(negative))"
      ],
      "execution_count": 243,
      "outputs": [
        {
          "output_type": "stream",
          "text": [
            "Positive Job Post： 17014\n",
            "Negative Job Post： 866\n"
          ],
          "name": "stdout"
        }
      ]
    },
    {
      "cell_type": "code",
      "metadata": {
        "id": "x96hxet_aCCv",
        "colab_type": "code",
        "outputId": "087e2eb8-cae6-4c20-ee32-a063d4908b69",
        "colab": {
          "base_uri": "https://localhost:8080/",
          "height": 336
        }
      },
      "source": [
        "# NaN Value in All Column. We don't have any NaN value in label.\n",
        "df.isna().sum()"
      ],
      "execution_count": 244,
      "outputs": [
        {
          "output_type": "execute_result",
          "data": {
            "text/plain": [
              "job_id                     0\n",
              "title                      0\n",
              "location                 346\n",
              "department             11547\n",
              "salary_range           15012\n",
              "company_profile         3308\n",
              "description                1\n",
              "requirements            2695\n",
              "benefits                7210\n",
              "telecommuting              0\n",
              "has_company_logo           0\n",
              "has_questions              0\n",
              "employment_type         3471\n",
              "required_experience     7050\n",
              "required_education      8105\n",
              "industry                4903\n",
              "function                6455\n",
              "fraudulent                 0\n",
              "dtype: int64"
            ]
          },
          "metadata": {
            "tags": []
          },
          "execution_count": 244
        }
      ]
    },
    {
      "cell_type": "code",
      "metadata": {
        "id": "1NcjSC26h_pK",
        "colab_type": "code",
        "colab": {}
      },
      "source": [
        "df = df.drop('job_id', axis=1)"
      ],
      "execution_count": 0,
      "outputs": []
    },
    {
      "cell_type": "code",
      "metadata": {
        "id": "zMC9lMRQrRoj",
        "colab_type": "code",
        "colab": {}
      },
      "source": [
        "cols = [\"title\", \"company_profile\", \"description\", \"requirements\", \"benefits\"]\n",
        "for c in cols:\n",
        "    df[c] = df[c].fillna(\"\")\n",
        "\n",
        "def extract_features(df):    \n",
        "    for c in cols:\n",
        "        df[c+\"_length\"] = df[c].apply(lambda x : len(str(x)))\n",
        "        df[c+\"_wordcount\"] = df[c].apply(lambda x : len(str(x.split())))\n",
        "\n",
        "    \n",
        "extract_features(df)"
      ],
      "execution_count": 0,
      "outputs": []
    },
    {
      "cell_type": "code",
      "metadata": {
        "id": "rATjyhEWurDB",
        "colab_type": "code",
        "colab": {}
      },
      "source": [
        "# df['combined_text'] = df['company_profile'] + \" \" + df['description'] + \" \" + df['requirements'] + \" \" + df['benefits']\n",
        "\n",
        "n_features = {\n",
        "    \"title\" : 100,\n",
        "    \"company_profile\" : 100,\n",
        "    \"description\" : 100,\n",
        "    \"requirements\" : 100,\n",
        "    \"benefits\" : 100\n",
        "    # \"combined_text\" : 500\n",
        "}\n",
        "\n",
        "for c, n in n_features.items():\n",
        "    tfidf = TfidfVectorizer(max_features=n, norm='l2', stop_words = 'english')\n",
        "    tfidf.fit(df[c])\n",
        "    tfidf_train = np.array(tfidf.transform(df[c]).toarray(), dtype=np.float16)\n",
        "\n",
        "    for i in range(n_features[c]):\n",
        "        df[c + '_tfidf_' + str(i)] = tfidf_train[:, i]"
      ],
      "execution_count": 0,
      "outputs": []
    },
    {
      "cell_type": "code",
      "metadata": {
        "id": "2E4AG882vm7-",
        "colab_type": "code",
        "colab": {}
      },
      "source": [
        "cat_cols = [\"employment_type\", \"required_experience\", \"required_education\", \"industry\", \"function\"]\n",
        "for c in cat_cols:\n",
        "    encoded = pd.get_dummies(df[c])\n",
        "    df = pd.concat([df, encoded], axis=1)"
      ],
      "execution_count": 0,
      "outputs": []
    },
    {
      "cell_type": "code",
      "metadata": {
        "id": "1_0I16Lbvw5v",
        "colab_type": "code",
        "outputId": "cafee993-601a-44f8-c2ae-4f02abf224f4",
        "colab": {
          "base_uri": "https://localhost:8080/",
          "height": 278
        }
      },
      "source": [
        "# drop_cols = ['title', 'location', 'department', 'salary_range', 'company_profile', 'description', 'requirements', 'benefits', 'combined_text']\n",
        "drop_cols = ['title', 'location', 'department', 'salary_range', 'company_profile', 'description', 'requirements', 'benefits']\n",
        "drop_cols += cat_cols\n",
        "df = df.drop(drop_cols, axis = 1)\n",
        "df.head()"
      ],
      "execution_count": 250,
      "outputs": [
        {
          "output_type": "execute_result",
          "data": {
            "text/html": [
              "<div>\n",
              "<style scoped>\n",
              "    .dataframe tbody tr th:only-of-type {\n",
              "        vertical-align: middle;\n",
              "    }\n",
              "\n",
              "    .dataframe tbody tr th {\n",
              "        vertical-align: top;\n",
              "    }\n",
              "\n",
              "    .dataframe thead th {\n",
              "        text-align: right;\n",
              "    }\n",
              "</style>\n",
              "<table border=\"1\" class=\"dataframe\">\n",
              "  <thead>\n",
              "    <tr style=\"text-align: right;\">\n",
              "      <th></th>\n",
              "      <th>telecommuting</th>\n",
              "      <th>has_company_logo</th>\n",
              "      <th>has_questions</th>\n",
              "      <th>fraudulent</th>\n",
              "      <th>title_length</th>\n",
              "      <th>title_wordcount</th>\n",
              "      <th>company_profile_length</th>\n",
              "      <th>company_profile_wordcount</th>\n",
              "      <th>description_length</th>\n",
              "      <th>description_wordcount</th>\n",
              "      <th>requirements_length</th>\n",
              "      <th>requirements_wordcount</th>\n",
              "      <th>benefits_length</th>\n",
              "      <th>benefits_wordcount</th>\n",
              "      <th>title_tfidf_0</th>\n",
              "      <th>title_tfidf_1</th>\n",
              "      <th>title_tfidf_2</th>\n",
              "      <th>title_tfidf_3</th>\n",
              "      <th>title_tfidf_4</th>\n",
              "      <th>title_tfidf_5</th>\n",
              "      <th>title_tfidf_6</th>\n",
              "      <th>title_tfidf_7</th>\n",
              "      <th>title_tfidf_8</th>\n",
              "      <th>title_tfidf_9</th>\n",
              "      <th>title_tfidf_10</th>\n",
              "      <th>title_tfidf_11</th>\n",
              "      <th>title_tfidf_12</th>\n",
              "      <th>title_tfidf_13</th>\n",
              "      <th>title_tfidf_14</th>\n",
              "      <th>title_tfidf_15</th>\n",
              "      <th>title_tfidf_16</th>\n",
              "      <th>title_tfidf_17</th>\n",
              "      <th>title_tfidf_18</th>\n",
              "      <th>title_tfidf_19</th>\n",
              "      <th>title_tfidf_20</th>\n",
              "      <th>title_tfidf_21</th>\n",
              "      <th>title_tfidf_22</th>\n",
              "      <th>title_tfidf_23</th>\n",
              "      <th>title_tfidf_24</th>\n",
              "      <th>title_tfidf_25</th>\n",
              "      <th>...</th>\n",
              "      <th>Wine and Spirits</th>\n",
              "      <th>Wireless</th>\n",
              "      <th>Writing and Editing</th>\n",
              "      <th>Accounting/Auditing</th>\n",
              "      <th>Administrative</th>\n",
              "      <th>Advertising</th>\n",
              "      <th>Art/Creative</th>\n",
              "      <th>Business Analyst</th>\n",
              "      <th>Business Development</th>\n",
              "      <th>Consulting</th>\n",
              "      <th>Customer Service</th>\n",
              "      <th>Data Analyst</th>\n",
              "      <th>Design</th>\n",
              "      <th>Distribution</th>\n",
              "      <th>Education</th>\n",
              "      <th>Engineering</th>\n",
              "      <th>Finance</th>\n",
              "      <th>Financial Analyst</th>\n",
              "      <th>General Business</th>\n",
              "      <th>Health Care Provider</th>\n",
              "      <th>Human Resources</th>\n",
              "      <th>Information Technology</th>\n",
              "      <th>Legal</th>\n",
              "      <th>Management</th>\n",
              "      <th>Manufacturing</th>\n",
              "      <th>Marketing</th>\n",
              "      <th>Other</th>\n",
              "      <th>Product Management</th>\n",
              "      <th>Production</th>\n",
              "      <th>Project Management</th>\n",
              "      <th>Public Relations</th>\n",
              "      <th>Purchasing</th>\n",
              "      <th>Quality Assurance</th>\n",
              "      <th>Research</th>\n",
              "      <th>Sales</th>\n",
              "      <th>Science</th>\n",
              "      <th>Strategy/Planning</th>\n",
              "      <th>Supply Chain</th>\n",
              "      <th>Training</th>\n",
              "      <th>Writing/Editing</th>\n",
              "    </tr>\n",
              "  </thead>\n",
              "  <tbody>\n",
              "    <tr>\n",
              "      <th>0</th>\n",
              "      <td>0</td>\n",
              "      <td>1</td>\n",
              "      <td>0</td>\n",
              "      <td>0</td>\n",
              "      <td>16</td>\n",
              "      <td>23</td>\n",
              "      <td>885</td>\n",
              "      <td>1309</td>\n",
              "      <td>905</td>\n",
              "      <td>1278</td>\n",
              "      <td>852</td>\n",
              "      <td>1198</td>\n",
              "      <td>0</td>\n",
              "      <td>2</td>\n",
              "      <td>0.0</td>\n",
              "      <td>0.0</td>\n",
              "      <td>0.0</td>\n",
              "      <td>0.000000</td>\n",
              "      <td>0.0</td>\n",
              "      <td>0.0</td>\n",
              "      <td>0.0</td>\n",
              "      <td>0.0</td>\n",
              "      <td>0.0</td>\n",
              "      <td>0.0</td>\n",
              "      <td>0.0</td>\n",
              "      <td>0.0</td>\n",
              "      <td>0.0</td>\n",
              "      <td>0.0</td>\n",
              "      <td>0.0</td>\n",
              "      <td>0.0</td>\n",
              "      <td>0.0</td>\n",
              "      <td>0.0</td>\n",
              "      <td>0.0</td>\n",
              "      <td>0.0</td>\n",
              "      <td>0.0</td>\n",
              "      <td>0.0</td>\n",
              "      <td>0.0</td>\n",
              "      <td>0.0</td>\n",
              "      <td>0.0</td>\n",
              "      <td>0.0</td>\n",
              "      <td>...</td>\n",
              "      <td>0</td>\n",
              "      <td>0</td>\n",
              "      <td>0</td>\n",
              "      <td>0</td>\n",
              "      <td>0</td>\n",
              "      <td>0</td>\n",
              "      <td>0</td>\n",
              "      <td>0</td>\n",
              "      <td>0</td>\n",
              "      <td>0</td>\n",
              "      <td>0</td>\n",
              "      <td>0</td>\n",
              "      <td>0</td>\n",
              "      <td>0</td>\n",
              "      <td>0</td>\n",
              "      <td>0</td>\n",
              "      <td>0</td>\n",
              "      <td>0</td>\n",
              "      <td>0</td>\n",
              "      <td>0</td>\n",
              "      <td>0</td>\n",
              "      <td>0</td>\n",
              "      <td>0</td>\n",
              "      <td>0</td>\n",
              "      <td>0</td>\n",
              "      <td>1</td>\n",
              "      <td>0</td>\n",
              "      <td>0</td>\n",
              "      <td>0</td>\n",
              "      <td>0</td>\n",
              "      <td>0</td>\n",
              "      <td>0</td>\n",
              "      <td>0</td>\n",
              "      <td>0</td>\n",
              "      <td>0</td>\n",
              "      <td>0</td>\n",
              "      <td>0</td>\n",
              "      <td>0</td>\n",
              "      <td>0</td>\n",
              "      <td>0</td>\n",
              "    </tr>\n",
              "    <tr>\n",
              "      <th>1</th>\n",
              "      <td>0</td>\n",
              "      <td>1</td>\n",
              "      <td>0</td>\n",
              "      <td>0</td>\n",
              "      <td>41</td>\n",
              "      <td>60</td>\n",
              "      <td>1286</td>\n",
              "      <td>1745</td>\n",
              "      <td>2077</td>\n",
              "      <td>3020</td>\n",
              "      <td>1433</td>\n",
              "      <td>2033</td>\n",
              "      <td>1292</td>\n",
              "      <td>1972</td>\n",
              "      <td>0.0</td>\n",
              "      <td>0.0</td>\n",
              "      <td>0.0</td>\n",
              "      <td>0.000000</td>\n",
              "      <td>0.0</td>\n",
              "      <td>0.0</td>\n",
              "      <td>0.0</td>\n",
              "      <td>0.0</td>\n",
              "      <td>0.0</td>\n",
              "      <td>0.0</td>\n",
              "      <td>0.0</td>\n",
              "      <td>0.0</td>\n",
              "      <td>0.0</td>\n",
              "      <td>0.0</td>\n",
              "      <td>0.0</td>\n",
              "      <td>0.0</td>\n",
              "      <td>0.0</td>\n",
              "      <td>0.0</td>\n",
              "      <td>0.0</td>\n",
              "      <td>0.0</td>\n",
              "      <td>0.0</td>\n",
              "      <td>0.0</td>\n",
              "      <td>0.0</td>\n",
              "      <td>0.0</td>\n",
              "      <td>0.0</td>\n",
              "      <td>0.0</td>\n",
              "      <td>...</td>\n",
              "      <td>0</td>\n",
              "      <td>0</td>\n",
              "      <td>0</td>\n",
              "      <td>0</td>\n",
              "      <td>0</td>\n",
              "      <td>0</td>\n",
              "      <td>0</td>\n",
              "      <td>0</td>\n",
              "      <td>0</td>\n",
              "      <td>0</td>\n",
              "      <td>1</td>\n",
              "      <td>0</td>\n",
              "      <td>0</td>\n",
              "      <td>0</td>\n",
              "      <td>0</td>\n",
              "      <td>0</td>\n",
              "      <td>0</td>\n",
              "      <td>0</td>\n",
              "      <td>0</td>\n",
              "      <td>0</td>\n",
              "      <td>0</td>\n",
              "      <td>0</td>\n",
              "      <td>0</td>\n",
              "      <td>0</td>\n",
              "      <td>0</td>\n",
              "      <td>0</td>\n",
              "      <td>0</td>\n",
              "      <td>0</td>\n",
              "      <td>0</td>\n",
              "      <td>0</td>\n",
              "      <td>0</td>\n",
              "      <td>0</td>\n",
              "      <td>0</td>\n",
              "      <td>0</td>\n",
              "      <td>0</td>\n",
              "      <td>0</td>\n",
              "      <td>0</td>\n",
              "      <td>0</td>\n",
              "      <td>0</td>\n",
              "      <td>0</td>\n",
              "    </tr>\n",
              "    <tr>\n",
              "      <th>2</th>\n",
              "      <td>0</td>\n",
              "      <td>1</td>\n",
              "      <td>0</td>\n",
              "      <td>0</td>\n",
              "      <td>39</td>\n",
              "      <td>52</td>\n",
              "      <td>879</td>\n",
              "      <td>1302</td>\n",
              "      <td>355</td>\n",
              "      <td>506</td>\n",
              "      <td>1363</td>\n",
              "      <td>1856</td>\n",
              "      <td>0</td>\n",
              "      <td>2</td>\n",
              "      <td>0.0</td>\n",
              "      <td>0.0</td>\n",
              "      <td>0.0</td>\n",
              "      <td>0.000000</td>\n",
              "      <td>0.0</td>\n",
              "      <td>0.0</td>\n",
              "      <td>0.0</td>\n",
              "      <td>0.0</td>\n",
              "      <td>0.0</td>\n",
              "      <td>0.0</td>\n",
              "      <td>0.0</td>\n",
              "      <td>0.0</td>\n",
              "      <td>0.0</td>\n",
              "      <td>1.0</td>\n",
              "      <td>0.0</td>\n",
              "      <td>0.0</td>\n",
              "      <td>0.0</td>\n",
              "      <td>0.0</td>\n",
              "      <td>0.0</td>\n",
              "      <td>0.0</td>\n",
              "      <td>0.0</td>\n",
              "      <td>0.0</td>\n",
              "      <td>0.0</td>\n",
              "      <td>0.0</td>\n",
              "      <td>0.0</td>\n",
              "      <td>0.0</td>\n",
              "      <td>...</td>\n",
              "      <td>0</td>\n",
              "      <td>0</td>\n",
              "      <td>0</td>\n",
              "      <td>0</td>\n",
              "      <td>0</td>\n",
              "      <td>0</td>\n",
              "      <td>0</td>\n",
              "      <td>0</td>\n",
              "      <td>0</td>\n",
              "      <td>0</td>\n",
              "      <td>0</td>\n",
              "      <td>0</td>\n",
              "      <td>0</td>\n",
              "      <td>0</td>\n",
              "      <td>0</td>\n",
              "      <td>0</td>\n",
              "      <td>0</td>\n",
              "      <td>0</td>\n",
              "      <td>0</td>\n",
              "      <td>0</td>\n",
              "      <td>0</td>\n",
              "      <td>0</td>\n",
              "      <td>0</td>\n",
              "      <td>0</td>\n",
              "      <td>0</td>\n",
              "      <td>0</td>\n",
              "      <td>0</td>\n",
              "      <td>0</td>\n",
              "      <td>0</td>\n",
              "      <td>0</td>\n",
              "      <td>0</td>\n",
              "      <td>0</td>\n",
              "      <td>0</td>\n",
              "      <td>0</td>\n",
              "      <td>0</td>\n",
              "      <td>0</td>\n",
              "      <td>0</td>\n",
              "      <td>0</td>\n",
              "      <td>0</td>\n",
              "      <td>0</td>\n",
              "    </tr>\n",
              "    <tr>\n",
              "      <th>3</th>\n",
              "      <td>0</td>\n",
              "      <td>1</td>\n",
              "      <td>0</td>\n",
              "      <td>0</td>\n",
              "      <td>33</td>\n",
              "      <td>49</td>\n",
              "      <td>614</td>\n",
              "      <td>868</td>\n",
              "      <td>2600</td>\n",
              "      <td>3637</td>\n",
              "      <td>1429</td>\n",
              "      <td>1958</td>\n",
              "      <td>782</td>\n",
              "      <td>1074</td>\n",
              "      <td>0.0</td>\n",
              "      <td>0.0</td>\n",
              "      <td>0.0</td>\n",
              "      <td>0.707031</td>\n",
              "      <td>0.0</td>\n",
              "      <td>0.0</td>\n",
              "      <td>0.0</td>\n",
              "      <td>0.0</td>\n",
              "      <td>0.0</td>\n",
              "      <td>0.0</td>\n",
              "      <td>0.0</td>\n",
              "      <td>0.0</td>\n",
              "      <td>0.0</td>\n",
              "      <td>0.0</td>\n",
              "      <td>0.0</td>\n",
              "      <td>0.0</td>\n",
              "      <td>0.0</td>\n",
              "      <td>0.0</td>\n",
              "      <td>0.0</td>\n",
              "      <td>0.0</td>\n",
              "      <td>0.0</td>\n",
              "      <td>0.0</td>\n",
              "      <td>0.0</td>\n",
              "      <td>0.0</td>\n",
              "      <td>0.0</td>\n",
              "      <td>0.0</td>\n",
              "      <td>...</td>\n",
              "      <td>0</td>\n",
              "      <td>0</td>\n",
              "      <td>0</td>\n",
              "      <td>0</td>\n",
              "      <td>0</td>\n",
              "      <td>0</td>\n",
              "      <td>0</td>\n",
              "      <td>0</td>\n",
              "      <td>0</td>\n",
              "      <td>0</td>\n",
              "      <td>0</td>\n",
              "      <td>0</td>\n",
              "      <td>0</td>\n",
              "      <td>0</td>\n",
              "      <td>0</td>\n",
              "      <td>0</td>\n",
              "      <td>0</td>\n",
              "      <td>0</td>\n",
              "      <td>0</td>\n",
              "      <td>0</td>\n",
              "      <td>0</td>\n",
              "      <td>0</td>\n",
              "      <td>0</td>\n",
              "      <td>0</td>\n",
              "      <td>0</td>\n",
              "      <td>0</td>\n",
              "      <td>0</td>\n",
              "      <td>0</td>\n",
              "      <td>0</td>\n",
              "      <td>0</td>\n",
              "      <td>0</td>\n",
              "      <td>0</td>\n",
              "      <td>0</td>\n",
              "      <td>0</td>\n",
              "      <td>1</td>\n",
              "      <td>0</td>\n",
              "      <td>0</td>\n",
              "      <td>0</td>\n",
              "      <td>0</td>\n",
              "      <td>0</td>\n",
              "    </tr>\n",
              "    <tr>\n",
              "      <th>4</th>\n",
              "      <td>0</td>\n",
              "      <td>1</td>\n",
              "      <td>1</td>\n",
              "      <td>0</td>\n",
              "      <td>19</td>\n",
              "      <td>29</td>\n",
              "      <td>1628</td>\n",
              "      <td>2250</td>\n",
              "      <td>1520</td>\n",
              "      <td>1939</td>\n",
              "      <td>757</td>\n",
              "      <td>1025</td>\n",
              "      <td>21</td>\n",
              "      <td>31</td>\n",
              "      <td>0.0</td>\n",
              "      <td>0.0</td>\n",
              "      <td>0.0</td>\n",
              "      <td>0.000000</td>\n",
              "      <td>0.0</td>\n",
              "      <td>0.0</td>\n",
              "      <td>0.0</td>\n",
              "      <td>0.0</td>\n",
              "      <td>0.0</td>\n",
              "      <td>0.0</td>\n",
              "      <td>0.0</td>\n",
              "      <td>0.0</td>\n",
              "      <td>0.0</td>\n",
              "      <td>0.0</td>\n",
              "      <td>0.0</td>\n",
              "      <td>0.0</td>\n",
              "      <td>0.0</td>\n",
              "      <td>0.0</td>\n",
              "      <td>0.0</td>\n",
              "      <td>0.0</td>\n",
              "      <td>0.0</td>\n",
              "      <td>0.0</td>\n",
              "      <td>0.0</td>\n",
              "      <td>0.0</td>\n",
              "      <td>0.0</td>\n",
              "      <td>0.0</td>\n",
              "      <td>...</td>\n",
              "      <td>0</td>\n",
              "      <td>0</td>\n",
              "      <td>0</td>\n",
              "      <td>0</td>\n",
              "      <td>0</td>\n",
              "      <td>0</td>\n",
              "      <td>0</td>\n",
              "      <td>0</td>\n",
              "      <td>0</td>\n",
              "      <td>0</td>\n",
              "      <td>0</td>\n",
              "      <td>0</td>\n",
              "      <td>0</td>\n",
              "      <td>0</td>\n",
              "      <td>0</td>\n",
              "      <td>0</td>\n",
              "      <td>0</td>\n",
              "      <td>0</td>\n",
              "      <td>0</td>\n",
              "      <td>1</td>\n",
              "      <td>0</td>\n",
              "      <td>0</td>\n",
              "      <td>0</td>\n",
              "      <td>0</td>\n",
              "      <td>0</td>\n",
              "      <td>0</td>\n",
              "      <td>0</td>\n",
              "      <td>0</td>\n",
              "      <td>0</td>\n",
              "      <td>0</td>\n",
              "      <td>0</td>\n",
              "      <td>0</td>\n",
              "      <td>0</td>\n",
              "      <td>0</td>\n",
              "      <td>0</td>\n",
              "      <td>0</td>\n",
              "      <td>0</td>\n",
              "      <td>0</td>\n",
              "      <td>0</td>\n",
              "      <td>0</td>\n",
              "    </tr>\n",
              "  </tbody>\n",
              "</table>\n",
              "<p>5 rows × 707 columns</p>\n",
              "</div>"
            ],
            "text/plain": [
              "   telecommuting  has_company_logo  ...  Training  Writing/Editing\n",
              "0              0                 1  ...         0                0\n",
              "1              0                 1  ...         0                0\n",
              "2              0                 1  ...         0                0\n",
              "3              0                 1  ...         0                0\n",
              "4              0                 1  ...         0                0\n",
              "\n",
              "[5 rows x 707 columns]"
            ]
          },
          "metadata": {
            "tags": []
          },
          "execution_count": 250
        }
      ]
    },
    {
      "cell_type": "code",
      "metadata": {
        "id": "xFjfQTBnaikW",
        "colab_type": "code",
        "outputId": "76ae8920-7ea8-4ce3-ca59-bbe462dbacfe",
        "colab": {
          "base_uri": "https://localhost:8080/",
          "height": 84
        }
      },
      "source": [
        "test_split = 0.2\n",
        "train_split = 1 - test_split\n",
        "\n",
        "# We will have 20% of all data for Testing, and 80% for Training)\n",
        "train_data = df.sample(frac = train_split)\n",
        "test_data = df.drop(train_data.index)\n",
        "\n",
        "x_train_data = train_data.iloc[:,0:-1].fillna('')\n",
        "y_train_data = train_data['fraudulent']\n",
        "x_test_data = test_data.iloc[:,0:-1].fillna('')\n",
        "y_test_data = test_data['fraudulent']\n",
        "\n",
        "print('Train Data Feature Length：', len(x_train_data))\n",
        "print('Train Data Label Length：', len(y_train_data))\n",
        "print('Test Data Feature Length：', len(x_test_data))\n",
        "print('Test Data Label Length：', len(y_test_data))"
      ],
      "execution_count": 255,
      "outputs": [
        {
          "output_type": "stream",
          "text": [
            "Train Data Feature Length： 14304\n",
            "Train Data Label Length： 14304\n",
            "Test Data Feature Length： 3576\n",
            "Test Data Label Length： 3576\n"
          ],
          "name": "stdout"
        }
      ]
    },
    {
      "cell_type": "code",
      "metadata": {
        "id": "OB8xxKz5woeA",
        "colab_type": "code",
        "colab": {}
      },
      "source": [
        "# Define the learning rate，batch_size, iter_num, etc.\n",
        "learning_rate = 0.003\n",
        "batch_size = 10\n",
        "iter_num = 1500\n",
        "m, n = x_train_data.shape "
      ],
      "execution_count": 0,
      "outputs": []
    },
    {
      "cell_type": "code",
      "metadata": {
        "id": "4maNIyeJGn2-",
        "colab_type": "code",
        "colab": {}
      },
      "source": [
        "# Building model and declare variable that will be learned\n",
        "# Because we have such n columns in our new dataframe, then we use the value to declare A\n",
        "A = tf.Variable(tf.random.normal(shape=[n, 1]))\n",
        "b = tf.Variable(tf.random.normal(shape=[1, 1]))\n",
        "init = tf.global_variables_initializer()\n",
        "sess = tf.Session()\n",
        "sess.run(init)"
      ],
      "execution_count": 0,
      "outputs": []
    },
    {
      "cell_type": "code",
      "metadata": {
        "id": "CeB9-JiHJ9lU",
        "colab_type": "code",
        "colab": {}
      },
      "source": [
        "# Define placeholders for both the feature and label\n",
        "data = tf.placeholder(dtype=tf.float32, shape=[None, n])\n",
        "target = tf.placeholder(dtype=tf.float32, shape=[None, 1])"
      ],
      "execution_count": 0,
      "outputs": []
    },
    {
      "cell_type": "code",
      "metadata": {
        "id": "s4nTagTrKzhO",
        "colab_type": "code",
        "colab": {}
      },
      "source": [
        "# Declare the model for learning\n",
        "mod = tf.matmul(data, A) + b"
      ],
      "execution_count": 0,
      "outputs": []
    },
    {
      "cell_type": "code",
      "metadata": {
        "id": "YyhlUHRJLKBt",
        "colab_type": "code",
        "colab": {}
      },
      "source": [
        "# Declare loss function\n",
        "loss = tf.reduce_mean(tf.nn.sigmoid_cross_entropy_with_logits(logits=mod, labels=target))"
      ],
      "execution_count": 0,
      "outputs": []
    },
    {
      "cell_type": "code",
      "metadata": {
        "id": "yqjflMGQLO9j",
        "colab_type": "code",
        "colab": {}
      },
      "source": [
        "# Define the optimizer\n",
        "opt = tf.train.GradientDescentOptimizer(learning_rate)"
      ],
      "execution_count": 0,
      "outputs": []
    },
    {
      "cell_type": "code",
      "metadata": {
        "id": "Hq2I0Fx3MBar",
        "colab_type": "code",
        "colab": {}
      },
      "source": [
        "# Define the goal\n",
        "goal = opt.minimize(loss)"
      ],
      "execution_count": 0,
      "outputs": []
    },
    {
      "cell_type": "code",
      "metadata": {
        "id": "wjXeVAJ-LQhn",
        "colab_type": "code",
        "colab": {}
      },
      "source": [
        "# Define the accuracy (default threshold is 0.5)\n",
        "prediction = tf.round(tf.sigmoid(mod))\n",
        "correct = tf.cast(tf.equal(prediction, target), dtype=tf.float32)\n",
        "accuracy = tf.reduce_mean(correct)"
      ],
      "execution_count": 0,
      "outputs": []
    },
    {
      "cell_type": "code",
      "metadata": {
        "id": "IyoEJk3-LSNr",
        "colab_type": "code",
        "colab": {}
      },
      "source": [
        "# Start training model\n",
        "# Define the variable that stores the result\n",
        "loss_trace = []\n",
        "train_acc = []\n",
        "test_acc = []"
      ],
      "execution_count": 0,
      "outputs": []
    },
    {
      "cell_type": "code",
      "metadata": {
        "id": "pE3hmEh7LT-y",
        "colab_type": "code",
        "colab": {
          "base_uri": "https://localhost:8080/",
          "height": 269
        },
        "outputId": "e72b131a-81ed-422e-af28-d14a229ff389"
      },
      "source": [
        "# training model\n",
        "for epoch in range(iter_num):\n",
        "    # Generate random batch index\n",
        "    batch_index = np.random.choice(len(x_train_data), size=batch_size)\n",
        "    batch_train_X = x_train_data.iloc[batch_index]\n",
        "    batch_train_y = np.matrix(y_train_data.iloc[batch_index]).T\n",
        "    sess.run(goal, feed_dict={data: batch_train_X, target: batch_train_y})\n",
        "    temp_loss = sess.run(loss, feed_dict={data: batch_train_X, target: batch_train_y})\n",
        "    temp_loss = sess.run(loss, feed_dict={data: x_train_data, target: np.matrix(y_train_data).T})\n",
        "    # convert into a matrix, and the shape of the placeholder to correspond\n",
        "    temp_train_acc = sess.run(accuracy, feed_dict={data: x_train_data, target: np.matrix(y_train_data).T})\n",
        "    temp_test_acc = sess.run(accuracy, feed_dict={data: x_test_data, target: np.matrix(y_test_data).T})\n",
        "    # recode the result\n",
        "    loss_trace.append(temp_loss)\n",
        "    train_acc.append(temp_train_acc)\n",
        "    test_acc.append(temp_test_acc)\n",
        "    # output\n",
        "    if (epoch + 1) % 100 == 0:\n",
        "      print('epoch: {:4d} loss: {:5f} train_acc: {:5f} test_acc: {:5f}'.format(epoch + 1, temp_loss,\n",
        "                                                                          temp_train_acc, temp_test_acc))"
      ],
      "execution_count": 265,
      "outputs": [
        {
          "output_type": "stream",
          "text": [
            "epoch:  100 loss: 185.833603 train_acc: 0.905341 test_acc: 0.914430\n",
            "epoch:  200 loss: 405.097504 train_acc: 0.950503 test_acc: 0.955257\n",
            "epoch:  300 loss: 82.886223 train_acc: 0.950643 test_acc: 0.955257\n",
            "epoch:  400 loss: 177.505936 train_acc: 0.947427 test_acc: 0.954418\n",
            "epoch:  500 loss: 172.563354 train_acc: 0.943792 test_acc: 0.947707\n",
            "epoch:  600 loss: 115.482437 train_acc: 0.940786 test_acc: 0.940996\n",
            "epoch:  700 loss: 974.157837 train_acc: 0.491471 test_acc: 0.488255\n",
            "epoch:  800 loss: 109.855301 train_acc: 0.886116 test_acc: 0.885347\n",
            "epoch:  900 loss: 263.410126 train_acc: 0.949664 test_acc: 0.954698\n",
            "epoch: 1000 loss: 113.548027 train_acc: 0.820050 test_acc: 0.824385\n",
            "epoch: 1100 loss: 137.287048 train_acc: 0.937850 test_acc: 0.943233\n",
            "epoch: 1200 loss: 290.059937 train_acc: 0.950853 test_acc: 0.955257\n",
            "epoch: 1300 loss: 200.171417 train_acc: 0.950853 test_acc: 0.955257\n",
            "epoch: 1400 loss: 98.089912 train_acc: 0.948616 test_acc: 0.954418\n",
            "epoch: 1500 loss: 99.562431 train_acc: 0.950923 test_acc: 0.955817\n"
          ],
          "name": "stdout"
        }
      ]
    },
    {
      "cell_type": "code",
      "metadata": {
        "id": "fOMX0sH3P3kc",
        "colab_type": "code",
        "colab": {
          "base_uri": "https://localhost:8080/",
          "height": 280
        },
        "outputId": "9404bb07-20d6-48c1-bef8-efc4cb4aecef"
      },
      "source": [
        "# Visualization of the results\n",
        "plt.plot(loss_trace)\n",
        "plt.xlabel('epoch')\n",
        "plt.ylabel('loss')\n",
        "plt.show()"
      ],
      "execution_count": 266,
      "outputs": [
        {
          "output_type": "display_data",
          "data": {
            "image/png": "[encoded data removed]",
            "text/plain": [
              "<Figure size 432x288 with 1 Axes>"
            ]
          },
          "metadata": {
            "tags": []
          }
        }
      ]
    },
    {
      "cell_type": "code",
      "metadata": {
        "id": "IFyRUAN8QtU6",
        "colab_type": "code",
        "colab": {
          "base_uri": "https://localhost:8080/",
          "height": 295
        },
        "outputId": "e6685d15-ce50-4fcb-fa53-ca30d5f76e03"
      },
      "source": [
        "# accuracy\n",
        "plt.plot(train_acc, 'b-', label='train accuracy')\n",
        "plt.plot(test_acc, 'k-', label='test accuracy')\n",
        "plt.xlabel('epoch')\n",
        "plt.ylabel('accuracy')\n",
        "plt.title('Train and Test Accuracy')\n",
        "plt.legend(loc='best')\n",
        "plt.show()"
      ],
      "execution_count": 267,
      "outputs": [
        {
          "output_type": "display_data",
          "data": {
            "image/png": "[encoded data removed]",
            "text/plain": [
              "<Figure size 432x288 with 1 Axes>"
            ]
          },
          "metadata": {
            "tags": []
          }
        }
      ]
    },
    {
      "cell_type": "code",
      "metadata": {
        "id": "XIunIfjJa2k3",
        "colab_type": "code",
        "colab": {}
      },
      "source": [
        ""
      ],
      "execution_count": 0,
      "outputs": []
    }
  ]
}